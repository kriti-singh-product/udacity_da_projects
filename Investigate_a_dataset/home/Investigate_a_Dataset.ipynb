{
 "cells": [
  {
   "cell_type": "markdown",
   "metadata": {},
   "source": [
    "> **Tip**: Welcome to the Investigate a Dataset project! You will find tips in quoted sections like this to help organize your approach to your investigation. Before submitting your project, it will be a good idea to go back through your report and remove these sections to make the presentation of your work as tidy as possible. First things first, you might want to double-click this Markdown cell and change the title so that it reflects your dataset and investigation.\n",
    "\n",
    "# Project: Investigate a Dataset (Replace this with something more specific!)\n",
    "\n",
    "## Table of Contents\n",
    "<ul>\n",
    "<li><a href=\"#intro\">Introduction</a></li>\n",
    "<li><a href=\"#wrangling\">Data Wrangling</a></li>\n",
    "<li><a href=\"#eda\">Exploratory Data Analysis</a></li>\n",
    "<li><a href=\"#conclusions\">Conclusions</a></li>\n",
    "</ul>"
   ]
  },
  {
   "cell_type": "markdown",
   "metadata": {},
   "source": [
    "<a id='intro'></a>\n",
    "## Introduction\n",
    "The data which I am primarily working on is tmdb movies dataset which contains the movie database and it consists of data for over 5000+ movies and basic information of the movies like movie id, ratings, popularity, actors, directors etc. and the whole dataset is prepared for the period of 1960-2015.\n",
    "We are going to do the analysis of the data by using the libraries such as numpy, pandas, matplotlib.\n",
    "Since this is a huge dataset and a number of evaluations can be made from the given data out of which a few are as follows:\n",
    "\n",
    "1)How many movies have the revenue less than the average revenue generated?\n",
    "2)What percentage of movies generate revenue greater than the average revenue?\n",
    "3)Find the number of movies released each decade?\n",
    "4)What is the average runtime of the movies?\n",
    "5)Does movies having higher budget produce more profit?\n",
    "6)Find the total profit generated against each genre?\n",
    "7)Find the correlation between the total budget, profit and revenue generated for each genre?\n",
    "8)List the top 10 directors who generated the most profit?\n"
   ]
  },
  {
   "cell_type": "code",
   "execution_count": 1,
   "metadata": {},
   "outputs": [],
   "source": [
    "# Importing Libraries\n",
    "import pandas as pd\n",
    "import numpy as np\n",
    "import matplotlib.pyplot as plt\n",
    "% matplotlib inline\n",
    "import csv\n",
    "from datetime import datetime\n",
    "import seaborn as sns\n",
    "\n"
   ]
  },
  {
   "cell_type": "markdown",
   "metadata": {},
   "source": [
    "<a id='wrangling'></a>\n",
    "## Data Wrangling\n",
    "\n",
    "> **Tip**: In this section of the report, you will load in the data, check for cleanliness, and then trim and clean your dataset for analysis. Make sure that you document your steps carefully and justify your cleaning decisions.\n",
    "\n",
    "### General Properties"
   ]
  },
  {
   "cell_type": "code",
   "execution_count": 3,
   "metadata": {
    "scrolled": true
   },
   "outputs": [
    {
     "data": {
      "text/html": [
       "<div>\n",
       "<style scoped>\n",
       "    .dataframe tbody tr th:only-of-type {\n",
       "        vertical-align: middle;\n",
       "    }\n",
       "\n",
       "    .dataframe tbody tr th {\n",
       "        vertical-align: top;\n",
       "    }\n",
       "\n",
       "    .dataframe thead th {\n",
       "        text-align: right;\n",
       "    }\n",
       "</style>\n",
       "<table border=\"1\" class=\"dataframe\">\n",
       "  <thead>\n",
       "    <tr style=\"text-align: right;\">\n",
       "      <th></th>\n",
       "      <th>id</th>\n",
       "      <th>imdb_id</th>\n",
       "      <th>popularity</th>\n",
       "      <th>budget</th>\n",
       "      <th>revenue</th>\n",
       "      <th>original_title</th>\n",
       "      <th>cast</th>\n",
       "      <th>homepage</th>\n",
       "      <th>director</th>\n",
       "      <th>tagline</th>\n",
       "      <th>...</th>\n",
       "      <th>overview</th>\n",
       "      <th>runtime</th>\n",
       "      <th>genres</th>\n",
       "      <th>production_companies</th>\n",
       "      <th>release_date</th>\n",
       "      <th>vote_count</th>\n",
       "      <th>vote_average</th>\n",
       "      <th>release_year</th>\n",
       "      <th>budget_adj</th>\n",
       "      <th>revenue_adj</th>\n",
       "    </tr>\n",
       "  </thead>\n",
       "  <tbody>\n",
       "    <tr>\n",
       "      <th>0</th>\n",
       "      <td>135397</td>\n",
       "      <td>tt0369610</td>\n",
       "      <td>32.985763</td>\n",
       "      <td>150000000</td>\n",
       "      <td>1513528810</td>\n",
       "      <td>Jurassic World</td>\n",
       "      <td>Chris Pratt|Bryce Dallas Howard|Irrfan Khan|Vi...</td>\n",
       "      <td>http://www.jurassicworld.com/</td>\n",
       "      <td>Colin Trevorrow</td>\n",
       "      <td>The park is open.</td>\n",
       "      <td>...</td>\n",
       "      <td>Twenty-two years after the events of Jurassic ...</td>\n",
       "      <td>124</td>\n",
       "      <td>Action|Adventure|Science Fiction|Thriller</td>\n",
       "      <td>Universal Studios|Amblin Entertainment|Legenda...</td>\n",
       "      <td>6/9/15</td>\n",
       "      <td>5562</td>\n",
       "      <td>6.5</td>\n",
       "      <td>2015</td>\n",
       "      <td>1.379999e+08</td>\n",
       "      <td>1.392446e+09</td>\n",
       "    </tr>\n",
       "  </tbody>\n",
       "</table>\n",
       "<p>1 rows × 21 columns</p>\n",
       "</div>"
      ],
      "text/plain": [
       "       id    imdb_id  popularity     budget     revenue  original_title  \\\n",
       "0  135397  tt0369610   32.985763  150000000  1513528810  Jurassic World   \n",
       "\n",
       "                                                cast  \\\n",
       "0  Chris Pratt|Bryce Dallas Howard|Irrfan Khan|Vi...   \n",
       "\n",
       "                        homepage         director            tagline  \\\n",
       "0  http://www.jurassicworld.com/  Colin Trevorrow  The park is open.   \n",
       "\n",
       "       ...                                                overview runtime  \\\n",
       "0      ...       Twenty-two years after the events of Jurassic ...     124   \n",
       "\n",
       "                                      genres  \\\n",
       "0  Action|Adventure|Science Fiction|Thriller   \n",
       "\n",
       "                                production_companies release_date vote_count  \\\n",
       "0  Universal Studios|Amblin Entertainment|Legenda...       6/9/15       5562   \n",
       "\n",
       "   vote_average  release_year    budget_adj   revenue_adj  \n",
       "0           6.5          2015  1.379999e+08  1.392446e+09  \n",
       "\n",
       "[1 rows x 21 columns]"
      ]
     },
     "execution_count": 3,
     "metadata": {},
     "output_type": "execute_result"
    }
   ],
   "source": [
    "# Loading Dataset\n",
    "tmdb_movie_data = pd.read_csv('tmdb-movies.csv')\n",
    "tmdb_movie_data.head(1)\n"
   ]
  },
  {
   "cell_type": "code",
   "execution_count": 4,
   "metadata": {},
   "outputs": [
    {
     "data": {
      "text/html": [
       "<div>\n",
       "<style scoped>\n",
       "    .dataframe tbody tr th:only-of-type {\n",
       "        vertical-align: middle;\n",
       "    }\n",
       "\n",
       "    .dataframe tbody tr th {\n",
       "        vertical-align: top;\n",
       "    }\n",
       "\n",
       "    .dataframe thead th {\n",
       "        text-align: right;\n",
       "    }\n",
       "</style>\n",
       "<table border=\"1\" class=\"dataframe\">\n",
       "  <thead>\n",
       "    <tr style=\"text-align: right;\">\n",
       "      <th></th>\n",
       "      <th>budget</th>\n",
       "      <th>revenue</th>\n",
       "      <th>original_title</th>\n",
       "      <th>cast</th>\n",
       "      <th>director</th>\n",
       "      <th>tagline</th>\n",
       "      <th>runtime</th>\n",
       "      <th>genres</th>\n",
       "      <th>release_date</th>\n",
       "      <th>release_year</th>\n",
       "    </tr>\n",
       "  </thead>\n",
       "  <tbody>\n",
       "    <tr>\n",
       "      <th>0</th>\n",
       "      <td>150000000</td>\n",
       "      <td>1513528810</td>\n",
       "      <td>Jurassic World</td>\n",
       "      <td>Chris Pratt|Bryce Dallas Howard|Irrfan Khan|Vi...</td>\n",
       "      <td>Colin Trevorrow</td>\n",
       "      <td>The park is open.</td>\n",
       "      <td>124</td>\n",
       "      <td>Action|Adventure|Science Fiction|Thriller</td>\n",
       "      <td>6/9/15</td>\n",
       "      <td>2015</td>\n",
       "    </tr>\n",
       "  </tbody>\n",
       "</table>\n",
       "</div>"
      ],
      "text/plain": [
       "      budget     revenue  original_title  \\\n",
       "0  150000000  1513528810  Jurassic World   \n",
       "\n",
       "                                                cast         director  \\\n",
       "0  Chris Pratt|Bryce Dallas Howard|Irrfan Khan|Vi...  Colin Trevorrow   \n",
       "\n",
       "             tagline  runtime                                     genres  \\\n",
       "0  The park is open.      124  Action|Adventure|Science Fiction|Thriller   \n",
       "\n",
       "  release_date  release_year  \n",
       "0       6/9/15          2015  "
      ]
     },
     "execution_count": 4,
     "metadata": {},
     "output_type": "execute_result"
    }
   ],
   "source": [
    "# Cleaning And Pruning dataset\n",
    "delete_col = [\"id\", \"imdb_id\", \"popularity\", \"homepage\",\"keywords\", \"budget_adj\", \"revenue_adj\", \"overview\", \"production_companies\", \"vote_count\",\"vote_average\"]\n",
    "new_data = tmdb_movie_data.drop(delete_col,1)\n",
    "new_data.head(1)\n"
   ]
  },
  {
   "cell_type": "code",
   "execution_count": 5,
   "metadata": {},
   "outputs": [
    {
     "data": {
      "text/plain": [
       "(10866, 10)"
      ]
     },
     "execution_count": 5,
     "metadata": {},
     "output_type": "execute_result"
    }
   ],
   "source": [
    "new_data.shape"
   ]
  },
  {
   "cell_type": "code",
   "execution_count": 6,
   "metadata": {},
   "outputs": [
    {
     "data": {
      "text/plain": [
       "(10865, 10)"
      ]
     },
     "execution_count": 6,
     "metadata": {},
     "output_type": "execute_result"
    }
   ],
   "source": [
    "tmdb_new = new_data.drop_duplicates()\n",
    "tmdb_new.shape\n"
   ]
  },
  {
   "cell_type": "code",
   "execution_count": 7,
   "metadata": {},
   "outputs": [
    {
     "data": {
      "text/plain": [
       "(3854, 10)"
      ]
     },
     "execution_count": 7,
     "metadata": {},
     "output_type": "execute_result"
    }
   ],
   "source": [
    "# Removing all the zeroes in the budget and revenue column to NaN\n",
    "emp_df = pd.DataFrame()\n",
    "new_df = emp_df.append(tmdb_new)\n",
    "temp_list = [\"revenue\", \"budget\"]\n",
    "new_df[temp_list] = new_df[temp_list].replace(0, np.NaN)\n",
    "new_df.dropna(subset = temp_list, inplace = True)\n",
    "new_df.shape\n"
   ]
  },
  {
   "cell_type": "code",
   "execution_count": 8,
   "metadata": {},
   "outputs": [
    {
     "data": {
      "text/plain": [
       "budget             int64\n",
       "revenue            int64\n",
       "original_title    object\n",
       "cast              object\n",
       "director          object\n",
       "tagline           object\n",
       "runtime            int64\n",
       "genres            object\n",
       "release_date      object\n",
       "release_year       int64\n",
       "dtype: object"
      ]
     },
     "execution_count": 8,
     "metadata": {},
     "output_type": "execute_result"
    }
   ],
   "source": [
    "tmdb_new.dtypes"
   ]
  },
  {
   "cell_type": "code",
   "execution_count": 9,
   "metadata": {},
   "outputs": [
    {
     "data": {
      "text/plain": [
       "budget             int64\n",
       "revenue            int64\n",
       "original_title    object\n",
       "cast              object\n",
       "director          object\n",
       "tagline           object\n",
       "runtime            int64\n",
       "genres            object\n",
       "release_date      object\n",
       "release_year       int64\n",
       "dtype: object"
      ]
     },
     "execution_count": 9,
     "metadata": {},
     "output_type": "execute_result"
    }
   ],
   "source": [
    "# Changing datatype for the revenue and budget column\n",
    "change_list = [\"revenue\", \"budget\"]\n",
    "new_df[change_list] = new_df[change_list].applymap(np.int64)\n",
    "new_df.dtypes"
   ]
  },
  {
   "cell_type": "code",
   "execution_count": 10,
   "metadata": {},
   "outputs": [],
   "source": [
    "new_df[\"runtime\"] = new_df[\"runtime\"].replace(0,np.NaN)"
   ]
  },
  {
   "cell_type": "code",
   "execution_count": 11,
   "metadata": {},
   "outputs": [
    {
     "data": {
      "text/html": [
       "<div>\n",
       "<style scoped>\n",
       "    .dataframe tbody tr th:only-of-type {\n",
       "        vertical-align: middle;\n",
       "    }\n",
       "\n",
       "    .dataframe tbody tr th {\n",
       "        vertical-align: top;\n",
       "    }\n",
       "\n",
       "    .dataframe thead th {\n",
       "        text-align: right;\n",
       "    }\n",
       "</style>\n",
       "<table border=\"1\" class=\"dataframe\">\n",
       "  <thead>\n",
       "    <tr style=\"text-align: right;\">\n",
       "      <th></th>\n",
       "      <th>budget</th>\n",
       "      <th>revenue</th>\n",
       "      <th>profit</th>\n",
       "      <th>original_title</th>\n",
       "      <th>cast</th>\n",
       "      <th>director</th>\n",
       "      <th>tagline</th>\n",
       "      <th>runtime</th>\n",
       "      <th>genres</th>\n",
       "      <th>release_date</th>\n",
       "      <th>release_year</th>\n",
       "    </tr>\n",
       "  </thead>\n",
       "  <tbody>\n",
       "    <tr>\n",
       "      <th>0</th>\n",
       "      <td>150000000</td>\n",
       "      <td>1513528810</td>\n",
       "      <td>1363528810</td>\n",
       "      <td>Jurassic World</td>\n",
       "      <td>Chris Pratt|Bryce Dallas Howard|Irrfan Khan|Vi...</td>\n",
       "      <td>Colin Trevorrow</td>\n",
       "      <td>The park is open.</td>\n",
       "      <td>124</td>\n",
       "      <td>Action|Adventure|Science Fiction|Thriller</td>\n",
       "      <td>6/9/15</td>\n",
       "      <td>2015</td>\n",
       "    </tr>\n",
       "  </tbody>\n",
       "</table>\n",
       "</div>"
      ],
      "text/plain": [
       "      budget     revenue      profit  original_title  \\\n",
       "0  150000000  1513528810  1363528810  Jurassic World   \n",
       "\n",
       "                                                cast         director  \\\n",
       "0  Chris Pratt|Bryce Dallas Howard|Irrfan Khan|Vi...  Colin Trevorrow   \n",
       "\n",
       "             tagline  runtime                                     genres  \\\n",
       "0  The park is open.      124  Action|Adventure|Science Fiction|Thriller   \n",
       "\n",
       "  release_date  release_year  \n",
       "0       6/9/15          2015  "
      ]
     },
     "execution_count": 11,
     "metadata": {},
     "output_type": "execute_result"
    }
   ],
   "source": [
    "new_df.insert(2,\"profit\", new_df[\"revenue\"] - new_df[\"budget\"])\n",
    "new_df.head(1)"
   ]
  },
  {
   "cell_type": "code",
   "execution_count": null,
   "metadata": {},
   "outputs": [],
   "source": [
    "### RESEARCH QUESTION 1: Finding the number of movies with revenue less than the average revenue"
   ]
  },
  {
   "cell_type": "code",
   "execution_count": 12,
   "metadata": {},
   "outputs": [
    {
     "data": {
      "text/plain": [
       "107686616.09807992"
      ]
     },
     "execution_count": 12,
     "metadata": {},
     "output_type": "execute_result"
    }
   ],
   "source": [
    "#Number of movies with revenue less than avg and more than average\n",
    "avg_rev = new_df[\"revenue\"].mean()\n",
    "avg_rev"
   ]
  },
  {
   "cell_type": "code",
   "execution_count": 13,
   "metadata": {},
   "outputs": [
    {
     "data": {
      "text/plain": [
       "1107"
      ]
     },
     "execution_count": 13,
     "metadata": {},
     "output_type": "execute_result"
    }
   ],
   "source": [
    "r = new_df[new_df[\"revenue\"]>avg_rev].shape[0]\n",
    "r"
   ]
  },
  {
   "cell_type": "code",
   "execution_count": 14,
   "metadata": {},
   "outputs": [
    {
     "data": {
      "text/plain": [
       "2747"
      ]
     },
     "execution_count": 14,
     "metadata": {},
     "output_type": "execute_result"
    }
   ],
   "source": [
    "s = new_df[new_df[\"revenue\"]<=avg_rev].shape[0]\n",
    "s\n"
   ]
  },
  {
   "cell_type": "code",
   "execution_count": 15,
   "metadata": {},
   "outputs": [
    {
     "data": {
      "image/png": "[encoded data removed]",
      "text/plain": [
       "<matplotlib.figure.Figure at 0x7fee02adfb38>"
      ]
     },
     "metadata": {
      "needs_background": "light"
     },
     "output_type": "display_data"
    }
   ],
   "source": [
    "dplot = pd.DataFrame({'revenue':[\"greater_than_avg_rev\", \"less_than_avg_rev\"], 'Number of movies':[r,s]})\n",
    "ax = dplot.plot.bar(x='revenue', y='Number of movies', rot=0)"
   ]
  },
  {
   "cell_type": "code",
   "execution_count": null,
   "metadata": {},
   "outputs": [],
   "source": [
    "*** Analysis: From the above visualization we see that more than 50% of the movies have revenue less than the average revenue."
   ]
  },
  {
   "cell_type": "code",
   "execution_count": null,
   "metadata": {},
   "outputs": [],
   "source": [
    "### RESEARCH QUESTION 2: Finding the percentage of movies with revenue greater than average revenue"
   ]
  },
  {
   "cell_type": "code",
   "execution_count": 16,
   "metadata": {},
   "outputs": [
    {
     "data": {
      "text/plain": [
       "3854"
      ]
     },
     "execution_count": 16,
     "metadata": {},
     "output_type": "execute_result"
    }
   ],
   "source": [
    "# Percentage of movies having revenue greater than average revenue\n",
    "mov_tot = r+s\n",
    "mov_tot"
   ]
  },
  {
   "cell_type": "code",
   "execution_count": 17,
   "metadata": {},
   "outputs": [
    {
     "data": {
      "text/plain": [
       "28.72340425531915"
      ]
     },
     "execution_count": 17,
     "metadata": {},
     "output_type": "execute_result"
    }
   ],
   "source": [
    "per_greater_than_avg = (r*100/mov_tot)\n",
    "per_greater_than_avg"
   ]
  },
  {
   "cell_type": "code",
   "execution_count": 18,
   "metadata": {},
   "outputs": [
    {
     "data": {
      "text/plain": [
       "71.27659574468085"
      ]
     },
     "execution_count": 18,
     "metadata": {},
     "output_type": "execute_result"
    }
   ],
   "source": [
    "per_less_than_avg = (s*100/mov_tot)\n",
    "per_less_than_avg "
   ]
  },
  {
   "cell_type": "code",
   "execution_count": 19,
   "metadata": {},
   "outputs": [
    {
     "data": {
      "image/png": "[encoded data removed]",
      "text/plain": [
       "<matplotlib.figure.Figure at 0x7fee02834cf8>"
      ]
     },
     "metadata": {
      "needs_background": "light"
     },
     "output_type": "display_data"
    }
   ],
   "source": [
    "dpplot = pd.DataFrame({'Percentage of movies':[\"per_greater_than_avg_rev\", \"per_less_than_avg_rev\"], 'Number of movies':[per_greater_than_avg, per_less_than_avg ]})\n",
    "axx = dpplot.plot.bar(x='Percentage of movies', y='Number of movies', rot=0)"
   ]
  },
  {
   "cell_type": "code",
   "execution_count": null,
   "metadata": {},
   "outputs": [],
   "source": [
    "*** Analysis: The previous graph represented the number of movies but this graph enables us to find the percentage of movies having \n",
    "    revenue greater than the average revenue which is just 28.7%"
   ]
  },
  {
   "cell_type": "code",
   "execution_count": null,
   "metadata": {},
   "outputs": [],
   "source": [
    "### RESEARCH QUESTION 3: Finding the number of movies released each decade "
   ]
  },
  {
   "cell_type": "code",
   "execution_count": 20,
   "metadata": {},
   "outputs": [],
   "source": [
    "decade_dict = {\"decade\":[], \"count\":[]}"
   ]
  },
  {
   "cell_type": "code",
   "execution_count": 21,
   "metadata": {},
   "outputs": [
    {
     "data": {
      "text/plain": [
       "77"
      ]
     },
     "execution_count": 21,
     "metadata": {},
     "output_type": "execute_result"
    }
   ],
   "source": [
    "df1 = new_df[new_df[\"release_year\"] >1960]\n",
    "df1 = df1[df1[\"release_year\"] <= 1970]\n",
    "fir_dec = df1.shape[0]\n",
    "decade_dict[\"decade\"].append(\"1960-1970\")\n",
    "decade_dict[\"count\"].append(fir_dec)\n",
    "fir_dec"
   ]
  },
  {
   "cell_type": "code",
   "execution_count": 22,
   "metadata": {},
   "outputs": [
    {
     "data": {
      "text/plain": [
       "145"
      ]
     },
     "execution_count": 22,
     "metadata": {},
     "output_type": "execute_result"
    }
   ],
   "source": [
    "df2 = new_df[new_df[\"release_year\"] >1970]\n",
    "df2 = df2[df2[\"release_year\"] <= 1980]\n",
    "sec_dec = df2.shape[0]\n",
    "decade_dict[\"decade\"].append(\"1970-1980\")\n",
    "decade_dict[\"count\"].append(sec_dec)\n",
    "sec_dec"
   ]
  },
  {
   "cell_type": "code",
   "execution_count": 23,
   "metadata": {},
   "outputs": [
    {
     "data": {
      "text/plain": [
       "425"
      ]
     },
     "execution_count": 23,
     "metadata": {},
     "output_type": "execute_result"
    }
   ],
   "source": [
    "df3 = new_df[new_df[\"release_year\"] >1980]\n",
    "df3 = df3[df3[\"release_year\"] <= 1990]\n",
    "third_dec = df3.shape[0]\n",
    "decade_dict[\"decade\"].append(\"1980-1990\")\n",
    "decade_dict[\"count\"].append(third_dec)\n",
    "third_dec"
   ]
  },
  {
   "cell_type": "code",
   "execution_count": 24,
   "metadata": {},
   "outputs": [
    {
     "data": {
      "text/plain": [
       "808"
      ]
     },
     "execution_count": 24,
     "metadata": {},
     "output_type": "execute_result"
    }
   ],
   "source": [
    "df4 = new_df[new_df[\"release_year\"] >1990]\n",
    "df4 = df4[df4[\"release_year\"] <= 2000]\n",
    "fourth_dec = df4.shape[0]\n",
    "decade_dict[\"decade\"].append(\"1990-2000\")\n",
    "decade_dict[\"count\"].append(fourth_dec)\n",
    "fourth_dec"
   ]
  },
  {
   "cell_type": "code",
   "execution_count": 25,
   "metadata": {},
   "outputs": [
    {
     "data": {
      "text/plain": [
       "1532"
      ]
     },
     "execution_count": 25,
     "metadata": {},
     "output_type": "execute_result"
    }
   ],
   "source": [
    "df5 = new_df[new_df[\"release_year\"] >2000]\n",
    "df5 = df5[df5[\"release_year\"] <= 2010]\n",
    "fifth_dec = df5.shape[0]\n",
    "decade_dict[\"decade\"].append(\"2000-2010\")\n",
    "decade_dict[\"count\"].append(fifth_dec)\n",
    "fifth_dec"
   ]
  },
  {
   "cell_type": "code",
   "execution_count": 26,
   "metadata": {},
   "outputs": [
    {
     "data": {
      "text/plain": [
       "862"
      ]
     },
     "execution_count": 26,
     "metadata": {},
     "output_type": "execute_result"
    }
   ],
   "source": [
    "df6 = new_df[new_df[\"release_year\"] >2010]\n",
    "df6 = df6[df6[\"release_year\"] <= 2020]\n",
    "sixth_dec = df6.shape[0]\n",
    "decade_dict[\"decade\"].append(\"2010-2010\")\n",
    "decade_dict[\"count\"].append(sixth_dec)\n",
    "sixth_dec"
   ]
  },
  {
   "cell_type": "code",
   "execution_count": 27,
   "metadata": {},
   "outputs": [
    {
     "data": {
      "text/plain": [
       "{'decade': ['1960-1970',\n",
       "  '1970-1980',\n",
       "  '1980-1990',\n",
       "  '1990-2000',\n",
       "  '2000-2010',\n",
       "  '2010-2010'],\n",
       " 'count': [77, 145, 425, 808, 1532, 862]}"
      ]
     },
     "execution_count": 27,
     "metadata": {},
     "output_type": "execute_result"
    }
   ],
   "source": [
    "decade_dict"
   ]
  },
  {
   "cell_type": "code",
   "execution_count": 28,
   "metadata": {},
   "outputs": [
    {
     "data": {
      "text/html": [
       "<div>\n",
       "<style scoped>\n",
       "    .dataframe tbody tr th:only-of-type {\n",
       "        vertical-align: middle;\n",
       "    }\n",
       "\n",
       "    .dataframe tbody tr th {\n",
       "        vertical-align: top;\n",
       "    }\n",
       "\n",
       "    .dataframe thead th {\n",
       "        text-align: right;\n",
       "    }\n",
       "</style>\n",
       "<table border=\"1\" class=\"dataframe\">\n",
       "  <thead>\n",
       "    <tr style=\"text-align: right;\">\n",
       "      <th></th>\n",
       "      <th>decade</th>\n",
       "      <th>count</th>\n",
       "    </tr>\n",
       "  </thead>\n",
       "  <tbody>\n",
       "    <tr>\n",
       "      <th>0</th>\n",
       "      <td>1960-1970</td>\n",
       "      <td>77</td>\n",
       "    </tr>\n",
       "    <tr>\n",
       "      <th>1</th>\n",
       "      <td>1970-1980</td>\n",
       "      <td>145</td>\n",
       "    </tr>\n",
       "    <tr>\n",
       "      <th>2</th>\n",
       "      <td>1980-1990</td>\n",
       "      <td>425</td>\n",
       "    </tr>\n",
       "    <tr>\n",
       "      <th>3</th>\n",
       "      <td>1990-2000</td>\n",
       "      <td>808</td>\n",
       "    </tr>\n",
       "    <tr>\n",
       "      <th>4</th>\n",
       "      <td>2000-2010</td>\n",
       "      <td>1532</td>\n",
       "    </tr>\n",
       "    <tr>\n",
       "      <th>5</th>\n",
       "      <td>2010-2010</td>\n",
       "      <td>862</td>\n",
       "    </tr>\n",
       "  </tbody>\n",
       "</table>\n",
       "</div>"
      ],
      "text/plain": [
       "      decade  count\n",
       "0  1960-1970     77\n",
       "1  1970-1980    145\n",
       "2  1980-1990    425\n",
       "3  1990-2000    808\n",
       "4  2000-2010   1532\n",
       "5  2010-2010    862"
      ]
     },
     "execution_count": 28,
     "metadata": {},
     "output_type": "execute_result"
    }
   ],
   "source": [
    "dfobj = pd.DataFrame.from_dict(decade_dict)\n",
    "dfobj"
   ]
  },
  {
   "cell_type": "code",
   "execution_count": 27,
   "metadata": {},
   "outputs": [
    {
     "data": {
      "image/png": "[encoded data removed]",
      "text/plain": [
       "<matplotlib.figure.Figure at 0x7f4445cc2f28>"
      ]
     },
     "metadata": {
      "needs_background": "light"
     },
     "output_type": "display_data"
    }
   ],
   "source": [
    "dfobj.plot.bar(x = \"decade\", y = \"count\", rot = 110, title = \"Number of movies released each year\")\n",
    "plt.show(block = True)"
   ]
  },
  {
   "cell_type": "code",
   "execution_count": null,
   "metadata": {},
   "outputs": [],
   "source": [
    "*** Analysis: The given graph represents that rate of release of new movies has been continuosly increasing and reaches the maximum\n",
    "    for 2000-10, probably would be increasing in the next decade also but we don't have data for the complete decade."
   ]
  },
  {
   "cell_type": "code",
   "execution_count": null,
   "metadata": {},
   "outputs": [],
   "source": [
    "### RESEARCH QUESTION 4: Finding the average runtime of movies"
   ]
  },
  {
   "cell_type": "code",
   "execution_count": 29,
   "metadata": {},
   "outputs": [
    {
     "data": {
      "image/png": "[encoded data removed]",
      "text/plain": [
       "<matplotlib.figure.Figure at 0x7fee02753d68>"
      ]
     },
     "metadata": {
      "needs_background": "light"
     },
     "output_type": "display_data"
    }
   ],
   "source": [
    "plt.figure(figsize=(9,7), dpi = 105)\n",
    "sns.boxplot(new_df['runtime'], linewidth = 0.5)\n",
    "plt.show()"
   ]
  },
  {
   "cell_type": "code",
   "execution_count": 52,
   "metadata": {},
   "outputs": [
    {
     "data": {
      "text/plain": [
       "count    3854.000000\n",
       "mean      109.220291\n",
       "std        19.922820\n",
       "min        15.000000\n",
       "25%        95.000000\n",
       "50%       106.000000\n",
       "75%       119.000000\n",
       "max       338.000000\n",
       "Name: runtime, dtype: float64"
      ]
     },
     "execution_count": 52,
     "metadata": {},
     "output_type": "execute_result"
    }
   ],
   "source": [
    "new_df[\"runtime\"].describe()"
   ]
  },
  {
   "cell_type": "code",
   "execution_count": null,
   "metadata": {},
   "outputs": [],
   "source": [
    "*** Analysis: The above data represents that nearly 25% movies has runtime of less than 95 mins and 50% has less than 106 mins."
   ]
  },
  {
   "cell_type": "code",
   "execution_count": null,
   "metadata": {},
   "outputs": [],
   "source": [
    "### RESEARCH QUESTION 5: Finding correlation between budget and profit for the movies"
   ]
  },
  {
   "cell_type": "code",
   "execution_count": 35,
   "metadata": {},
   "outputs": [
    {
     "data": {
      "image/png": "[encoded data removed]",
      "text/plain": [
       "<matplotlib.figure.Figure at 0x7fee01fb6f60>"
      ]
     },
     "metadata": {
      "needs_background": "light"
     },
     "output_type": "display_data"
    }
   ],
   "source": [
    "new_df.plot.scatter(x = \"budget\", y = \"profit\", s = 10, title = \"Correlation b/w budget and profit\")\n",
    "plt.show()"
   ]
  },
  {
   "cell_type": "code",
   "execution_count": null,
   "metadata": {},
   "outputs": [],
   "source": [
    "*** Analysis: The above scatter plot depicts that the if the movies have higher budget does not necessarily produce higher profit."
   ]
  },
  {
   "cell_type": "code",
   "execution_count": null,
   "metadata": {},
   "outputs": [],
   "source": [
    "### RESEARCH QUESTION 6: Finding total revenue generated for each genre"
   ]
  },
  {
   "cell_type": "code",
   "execution_count": 37,
   "metadata": {},
   "outputs": [],
   "source": [
    "# Creating splitted dataset for composite columns\n",
    "def splitDataFrameList(in_df,column_name,separator):\n",
    "    row_accumulator = []\n",
    "    \n",
    "    def splitListToRows(in_row, separator):\n",
    "        try:\n",
    "            split_row = in_row[column_name].split(separator)\n",
    "        \n",
    "            for s in split_row:\n",
    "                new_row = in_row.to_dict()\n",
    "                new_row[column_name] = s\n",
    "                row_accumulator.append(new_row)\n",
    "        except AttributeError:\n",
    "            print(\"Split failed for \", type(in_row[column_name]))\n",
    "    \n",
    "    in_df.apply(splitListToRows, axis=1, args = (separator, ))\n",
    "    revised_df = pd.DataFrame(row_accumulator)\n",
    "    return revised_df"
   ]
  },
  {
   "cell_type": "code",
   "execution_count": 38,
   "metadata": {},
   "outputs": [
    {
     "data": {
      "text/html": [
       "<div>\n",
       "<style scoped>\n",
       "    .dataframe tbody tr th:only-of-type {\n",
       "        vertical-align: middle;\n",
       "    }\n",
       "\n",
       "    .dataframe tbody tr th {\n",
       "        vertical-align: top;\n",
       "    }\n",
       "\n",
       "    .dataframe thead th {\n",
       "        text-align: right;\n",
       "    }\n",
       "</style>\n",
       "<table border=\"1\" class=\"dataframe\">\n",
       "  <thead>\n",
       "    <tr style=\"text-align: right;\">\n",
       "      <th></th>\n",
       "      <th>budget</th>\n",
       "      <th>cast</th>\n",
       "      <th>director</th>\n",
       "      <th>genres</th>\n",
       "      <th>original_title</th>\n",
       "      <th>profit</th>\n",
       "      <th>release_date</th>\n",
       "      <th>release_year</th>\n",
       "      <th>revenue</th>\n",
       "      <th>runtime</th>\n",
       "      <th>tagline</th>\n",
       "    </tr>\n",
       "  </thead>\n",
       "  <tbody>\n",
       "    <tr>\n",
       "      <th>0</th>\n",
       "      <td>150000000</td>\n",
       "      <td>Chris Pratt|Bryce Dallas Howard|Irrfan Khan|Vi...</td>\n",
       "      <td>Colin Trevorrow</td>\n",
       "      <td>Action</td>\n",
       "      <td>Jurassic World</td>\n",
       "      <td>1363528810</td>\n",
       "      <td>6/9/15</td>\n",
       "      <td>2015</td>\n",
       "      <td>1513528810</td>\n",
       "      <td>124</td>\n",
       "      <td>The park is open.</td>\n",
       "    </tr>\n",
       "    <tr>\n",
       "      <th>1</th>\n",
       "      <td>150000000</td>\n",
       "      <td>Chris Pratt|Bryce Dallas Howard|Irrfan Khan|Vi...</td>\n",
       "      <td>Colin Trevorrow</td>\n",
       "      <td>Adventure</td>\n",
       "      <td>Jurassic World</td>\n",
       "      <td>1363528810</td>\n",
       "      <td>6/9/15</td>\n",
       "      <td>2015</td>\n",
       "      <td>1513528810</td>\n",
       "      <td>124</td>\n",
       "      <td>The park is open.</td>\n",
       "    </tr>\n",
       "    <tr>\n",
       "      <th>2</th>\n",
       "      <td>150000000</td>\n",
       "      <td>Chris Pratt|Bryce Dallas Howard|Irrfan Khan|Vi...</td>\n",
       "      <td>Colin Trevorrow</td>\n",
       "      <td>Science Fiction</td>\n",
       "      <td>Jurassic World</td>\n",
       "      <td>1363528810</td>\n",
       "      <td>6/9/15</td>\n",
       "      <td>2015</td>\n",
       "      <td>1513528810</td>\n",
       "      <td>124</td>\n",
       "      <td>The park is open.</td>\n",
       "    </tr>\n",
       "    <tr>\n",
       "      <th>3</th>\n",
       "      <td>150000000</td>\n",
       "      <td>Chris Pratt|Bryce Dallas Howard|Irrfan Khan|Vi...</td>\n",
       "      <td>Colin Trevorrow</td>\n",
       "      <td>Thriller</td>\n",
       "      <td>Jurassic World</td>\n",
       "      <td>1363528810</td>\n",
       "      <td>6/9/15</td>\n",
       "      <td>2015</td>\n",
       "      <td>1513528810</td>\n",
       "      <td>124</td>\n",
       "      <td>The park is open.</td>\n",
       "    </tr>\n",
       "    <tr>\n",
       "      <th>4</th>\n",
       "      <td>150000000</td>\n",
       "      <td>Tom Hardy|Charlize Theron|Hugh Keays-Byrne|Nic...</td>\n",
       "      <td>George Miller</td>\n",
       "      <td>Action</td>\n",
       "      <td>Mad Max: Fury Road</td>\n",
       "      <td>228436354</td>\n",
       "      <td>5/13/15</td>\n",
       "      <td>2015</td>\n",
       "      <td>378436354</td>\n",
       "      <td>120</td>\n",
       "      <td>What a Lovely Day.</td>\n",
       "    </tr>\n",
       "  </tbody>\n",
       "</table>\n",
       "</div>"
      ],
      "text/plain": [
       "      budget                                               cast  \\\n",
       "0  150000000  Chris Pratt|Bryce Dallas Howard|Irrfan Khan|Vi...   \n",
       "1  150000000  Chris Pratt|Bryce Dallas Howard|Irrfan Khan|Vi...   \n",
       "2  150000000  Chris Pratt|Bryce Dallas Howard|Irrfan Khan|Vi...   \n",
       "3  150000000  Chris Pratt|Bryce Dallas Howard|Irrfan Khan|Vi...   \n",
       "4  150000000  Tom Hardy|Charlize Theron|Hugh Keays-Byrne|Nic...   \n",
       "\n",
       "          director           genres      original_title      profit  \\\n",
       "0  Colin Trevorrow           Action      Jurassic World  1363528810   \n",
       "1  Colin Trevorrow        Adventure      Jurassic World  1363528810   \n",
       "2  Colin Trevorrow  Science Fiction      Jurassic World  1363528810   \n",
       "3  Colin Trevorrow         Thriller      Jurassic World  1363528810   \n",
       "4    George Miller           Action  Mad Max: Fury Road   228436354   \n",
       "\n",
       "  release_date  release_year     revenue  runtime             tagline  \n",
       "0       6/9/15          2015  1513528810      124   The park is open.  \n",
       "1       6/9/15          2015  1513528810      124   The park is open.  \n",
       "2       6/9/15          2015  1513528810      124   The park is open.  \n",
       "3       6/9/15          2015  1513528810      124   The park is open.  \n",
       "4      5/13/15          2015   378436354      120  What a Lovely Day.  "
      ]
     },
     "execution_count": 38,
     "metadata": {},
     "output_type": "execute_result"
    }
   ],
   "source": [
    "# Creating genre split\n",
    "genres_expanded_df = splitDataFrameList(new_df, \"genres\",\"|\")\n",
    "genres_expanded_df.head()"
   ]
  },
  {
   "cell_type": "code",
   "execution_count": 39,
   "metadata": {},
   "outputs": [],
   "source": [
    "# Getting genre avg. revenue\n",
    "genres_revenue = genres_expanded_df.groupby(\"genres\")[\"revenue\"].mean()\n",
    "genres_revenue_df = pd.DataFrame(genres_revenue.reset_index())\n"
   ]
  },
  {
   "cell_type": "code",
   "execution_count": 40,
   "metadata": {},
   "outputs": [],
   "source": [
    "# Getting genre avg. budget\n",
    "genres_budget = genres_expanded_df.groupby(\"genres\")[\"budget\"].mean()\n",
    "genres_budget_df = pd.DataFrame(genres_budget.reset_index())\n",
    "\n"
   ]
  },
  {
   "cell_type": "code",
   "execution_count": 41,
   "metadata": {},
   "outputs": [],
   "source": [
    "# Getting genre avg. profit\n",
    "genres_profit = genres_expanded_df.groupby(\"genres\")[\"profit\"].mean()\n",
    "genres_profit_df = pd.DataFrame(genres_profit.reset_index())\n"
   ]
  },
  {
   "cell_type": "code",
   "execution_count": 42,
   "metadata": {},
   "outputs": [
    {
     "data": {
      "text/html": [
       "<div>\n",
       "<style scoped>\n",
       "    .dataframe tbody tr th:only-of-type {\n",
       "        vertical-align: middle;\n",
       "    }\n",
       "\n",
       "    .dataframe tbody tr th {\n",
       "        vertical-align: top;\n",
       "    }\n",
       "\n",
       "    .dataframe thead th {\n",
       "        text-align: right;\n",
       "    }\n",
       "</style>\n",
       "<table border=\"1\" class=\"dataframe\">\n",
       "  <thead>\n",
       "    <tr style=\"text-align: right;\">\n",
       "      <th></th>\n",
       "      <th>genres</th>\n",
       "      <th>revenue</th>\n",
       "      <th>budget</th>\n",
       "      <th>profit</th>\n",
       "    </tr>\n",
       "  </thead>\n",
       "  <tbody>\n",
       "    <tr>\n",
       "      <th>0</th>\n",
       "      <td>Action</td>\n",
       "      <td>1.565772e+08</td>\n",
       "      <td>5.644044e+07</td>\n",
       "      <td>1.001367e+08</td>\n",
       "    </tr>\n",
       "    <tr>\n",
       "      <th>1</th>\n",
       "      <td>Adventure</td>\n",
       "      <td>2.182919e+08</td>\n",
       "      <td>6.993891e+07</td>\n",
       "      <td>1.483529e+08</td>\n",
       "    </tr>\n",
       "    <tr>\n",
       "      <th>2</th>\n",
       "      <td>Animation</td>\n",
       "      <td>2.571215e+08</td>\n",
       "      <td>7.693647e+07</td>\n",
       "      <td>1.801850e+08</td>\n",
       "    </tr>\n",
       "    <tr>\n",
       "      <th>3</th>\n",
       "      <td>Comedy</td>\n",
       "      <td>9.733657e+07</td>\n",
       "      <td>3.310906e+07</td>\n",
       "      <td>6.422751e+07</td>\n",
       "    </tr>\n",
       "    <tr>\n",
       "      <th>4</th>\n",
       "      <td>Crime</td>\n",
       "      <td>8.414309e+07</td>\n",
       "      <td>3.303574e+07</td>\n",
       "      <td>5.110735e+07</td>\n",
       "    </tr>\n",
       "    <tr>\n",
       "      <th>5</th>\n",
       "      <td>Documentary</td>\n",
       "      <td>2.252440e+07</td>\n",
       "      <td>4.852976e+06</td>\n",
       "      <td>1.767142e+07</td>\n",
       "    </tr>\n",
       "    <tr>\n",
       "      <th>6</th>\n",
       "      <td>Drama</td>\n",
       "      <td>7.432727e+07</td>\n",
       "      <td>2.805238e+07</td>\n",
       "      <td>4.627488e+07</td>\n",
       "    </tr>\n",
       "    <tr>\n",
       "      <th>7</th>\n",
       "      <td>Family</td>\n",
       "      <td>2.031535e+08</td>\n",
       "      <td>6.247916e+07</td>\n",
       "      <td>1.406744e+08</td>\n",
       "    </tr>\n",
       "    <tr>\n",
       "      <th>8</th>\n",
       "      <td>Fantasy</td>\n",
       "      <td>2.182341e+08</td>\n",
       "      <td>7.071740e+07</td>\n",
       "      <td>1.475167e+08</td>\n",
       "    </tr>\n",
       "    <tr>\n",
       "      <th>9</th>\n",
       "      <td>Foreign</td>\n",
       "      <td>1.111596e+07</td>\n",
       "      <td>9.430669e+06</td>\n",
       "      <td>1.685289e+06</td>\n",
       "    </tr>\n",
       "    <tr>\n",
       "      <th>10</th>\n",
       "      <td>History</td>\n",
       "      <td>8.140524e+07</td>\n",
       "      <td>4.070522e+07</td>\n",
       "      <td>4.070002e+07</td>\n",
       "    </tr>\n",
       "    <tr>\n",
       "      <th>11</th>\n",
       "      <td>Horror</td>\n",
       "      <td>5.728780e+07</td>\n",
       "      <td>1.856631e+07</td>\n",
       "      <td>3.872150e+07</td>\n",
       "    </tr>\n",
       "    <tr>\n",
       "      <th>12</th>\n",
       "      <td>Music</td>\n",
       "      <td>8.266759e+07</td>\n",
       "      <td>2.578206e+07</td>\n",
       "      <td>5.688553e+07</td>\n",
       "    </tr>\n",
       "    <tr>\n",
       "      <th>13</th>\n",
       "      <td>Mystery</td>\n",
       "      <td>9.104578e+07</td>\n",
       "      <td>3.506373e+07</td>\n",
       "      <td>5.598205e+07</td>\n",
       "    </tr>\n",
       "    <tr>\n",
       "      <th>14</th>\n",
       "      <td>Romance</td>\n",
       "      <td>8.574801e+07</td>\n",
       "      <td>2.727533e+07</td>\n",
       "      <td>5.847267e+07</td>\n",
       "    </tr>\n",
       "    <tr>\n",
       "      <th>15</th>\n",
       "      <td>Science Fiction</td>\n",
       "      <td>1.639331e+08</td>\n",
       "      <td>5.598682e+07</td>\n",
       "      <td>1.079463e+08</td>\n",
       "    </tr>\n",
       "    <tr>\n",
       "      <th>16</th>\n",
       "      <td>TV Movie</td>\n",
       "      <td>4.200000e+07</td>\n",
       "      <td>5.000000e+06</td>\n",
       "      <td>3.700000e+07</td>\n",
       "    </tr>\n",
       "    <tr>\n",
       "      <th>17</th>\n",
       "      <td>Thriller</td>\n",
       "      <td>9.774046e+07</td>\n",
       "      <td>3.729460e+07</td>\n",
       "      <td>6.044586e+07</td>\n",
       "    </tr>\n",
       "    <tr>\n",
       "      <th>18</th>\n",
       "      <td>War</td>\n",
       "      <td>1.060321e+08</td>\n",
       "      <td>4.225584e+07</td>\n",
       "      <td>6.377623e+07</td>\n",
       "    </tr>\n",
       "    <tr>\n",
       "      <th>19</th>\n",
       "      <td>Western</td>\n",
       "      <td>8.741292e+07</td>\n",
       "      <td>5.283489e+07</td>\n",
       "      <td>3.457804e+07</td>\n",
       "    </tr>\n",
       "  </tbody>\n",
       "</table>\n",
       "</div>"
      ],
      "text/plain": [
       "             genres       revenue        budget        profit\n",
       "0            Action  1.565772e+08  5.644044e+07  1.001367e+08\n",
       "1         Adventure  2.182919e+08  6.993891e+07  1.483529e+08\n",
       "2         Animation  2.571215e+08  7.693647e+07  1.801850e+08\n",
       "3            Comedy  9.733657e+07  3.310906e+07  6.422751e+07\n",
       "4             Crime  8.414309e+07  3.303574e+07  5.110735e+07\n",
       "5       Documentary  2.252440e+07  4.852976e+06  1.767142e+07\n",
       "6             Drama  7.432727e+07  2.805238e+07  4.627488e+07\n",
       "7            Family  2.031535e+08  6.247916e+07  1.406744e+08\n",
       "8           Fantasy  2.182341e+08  7.071740e+07  1.475167e+08\n",
       "9           Foreign  1.111596e+07  9.430669e+06  1.685289e+06\n",
       "10          History  8.140524e+07  4.070522e+07  4.070002e+07\n",
       "11           Horror  5.728780e+07  1.856631e+07  3.872150e+07\n",
       "12            Music  8.266759e+07  2.578206e+07  5.688553e+07\n",
       "13          Mystery  9.104578e+07  3.506373e+07  5.598205e+07\n",
       "14          Romance  8.574801e+07  2.727533e+07  5.847267e+07\n",
       "15  Science Fiction  1.639331e+08  5.598682e+07  1.079463e+08\n",
       "16         TV Movie  4.200000e+07  5.000000e+06  3.700000e+07\n",
       "17         Thriller  9.774046e+07  3.729460e+07  6.044586e+07\n",
       "18              War  1.060321e+08  4.225584e+07  6.377623e+07\n",
       "19          Western  8.741292e+07  5.283489e+07  3.457804e+07"
      ]
     },
     "execution_count": 42,
     "metadata": {},
     "output_type": "execute_result"
    }
   ],
   "source": [
    "# Combining all the results into a single dataframe\n",
    "stacked_genres_df = pd.concat([genres_revenue_df, genres_budget_df, genres_profit_df], axis = 1, join  = \"inner\")\n",
    "stacked_genres_df = stacked_genres_df.loc[:,~stacked_genres_df.columns.duplicated()]\n",
    "stacked_genres_df\n"
   ]
  },
  {
   "cell_type": "code",
   "execution_count": 43,
   "metadata": {},
   "outputs": [
    {
     "data": {
      "image/png": "[encoded data removed]",
      "text/plain": [
       "<matplotlib.figure.Figure at 0x7fee01ba1ac8>"
      ]
     },
     "metadata": {
      "needs_background": "light"
     },
     "output_type": "display_data"
    }
   ],
   "source": [
    "# Plotting avg.revenue by genre\n",
    "genres_revenue_df.plot.bar(x = \"genres\", y = \"revenue\", rot = 110, title = \"revenue against each genre\")\n",
    "plt.show(block = True)"
   ]
  },
  {
   "cell_type": "code",
   "execution_count": null,
   "metadata": {},
   "outputs": [],
   "source": [
    "*** Analysis: The genre generating highest revenue are those of adventure, family, fantasy and animation genre and the ones\n",
    "    having least profit are of documentary and foreign genre."
   ]
  },
  {
   "cell_type": "code",
   "execution_count": 44,
   "metadata": {},
   "outputs": [],
   "source": [
    "### RESEARCH QUESTION 7: Correlation Between profit, budget and revenue generated for each genre"
   ]
  },
  {
   "cell_type": "code",
   "execution_count": 45,
   "metadata": {},
   "outputs": [
    {
     "data": {
      "text/plain": [
       "<matplotlib.axes._subplots.AxesSubplot at 0x7fee01af36a0>"
      ]
     },
     "execution_count": 45,
     "metadata": {},
     "output_type": "execute_result"
    },
    {
     "data": {
      "image/png": "[encoded data removed]",
      "text/plain": [
       "<matplotlib.figure.Figure at 0x7fee01b45a58>"
      ]
     },
     "metadata": {
      "needs_background": "light"
     },
     "output_type": "display_data"
    }
   ],
   "source": [
    "# Plotting avg. budget, revenue, profit by genre\n",
    "stacked_genres_df.plot(x = \"genres\", y = [\"budget\", \"revenue\", \"profit\"], kind = \"barh\", width = 1)\n"
   ]
  },
  {
   "cell_type": "code",
   "execution_count": null,
   "metadata": {},
   "outputs": [],
   "source": [
    "*** Analysis: The above graph shows a correlation between the budget, revenue and profit of various genres."
   ]
  },
  {
   "cell_type": "code",
   "execution_count": null,
   "metadata": {},
   "outputs": [],
   "source": [
    "### RESEARCH QUESTION 8: Top 10 directors generating most profit"
   ]
  },
  {
   "cell_type": "code",
   "execution_count": 46,
   "metadata": {},
   "outputs": [
    {
     "name": "stdout",
     "output_type": "stream",
     "text": [
      "Split failed for  <class 'float'>\n"
     ]
    },
    {
     "data": {
      "text/html": [
       "<div>\n",
       "<style scoped>\n",
       "    .dataframe tbody tr th:only-of-type {\n",
       "        vertical-align: middle;\n",
       "    }\n",
       "\n",
       "    .dataframe tbody tr th {\n",
       "        vertical-align: top;\n",
       "    }\n",
       "\n",
       "    .dataframe thead th {\n",
       "        text-align: right;\n",
       "    }\n",
       "</style>\n",
       "<table border=\"1\" class=\"dataframe\">\n",
       "  <thead>\n",
       "    <tr style=\"text-align: right;\">\n",
       "      <th></th>\n",
       "      <th>budget</th>\n",
       "      <th>cast</th>\n",
       "      <th>director</th>\n",
       "      <th>genres</th>\n",
       "      <th>original_title</th>\n",
       "      <th>profit</th>\n",
       "      <th>release_date</th>\n",
       "      <th>release_year</th>\n",
       "      <th>revenue</th>\n",
       "      <th>runtime</th>\n",
       "      <th>tagline</th>\n",
       "    </tr>\n",
       "  </thead>\n",
       "  <tbody>\n",
       "    <tr>\n",
       "      <th>0</th>\n",
       "      <td>150000000</td>\n",
       "      <td>Chris Pratt|Bryce Dallas Howard|Irrfan Khan|Vi...</td>\n",
       "      <td>Colin Trevorrow</td>\n",
       "      <td>Action|Adventure|Science Fiction|Thriller</td>\n",
       "      <td>Jurassic World</td>\n",
       "      <td>1363528810</td>\n",
       "      <td>6/9/15</td>\n",
       "      <td>2015</td>\n",
       "      <td>1513528810</td>\n",
       "      <td>124</td>\n",
       "      <td>The park is open.</td>\n",
       "    </tr>\n",
       "    <tr>\n",
       "      <th>1</th>\n",
       "      <td>150000000</td>\n",
       "      <td>Tom Hardy|Charlize Theron|Hugh Keays-Byrne|Nic...</td>\n",
       "      <td>George Miller</td>\n",
       "      <td>Action|Adventure|Science Fiction|Thriller</td>\n",
       "      <td>Mad Max: Fury Road</td>\n",
       "      <td>228436354</td>\n",
       "      <td>5/13/15</td>\n",
       "      <td>2015</td>\n",
       "      <td>378436354</td>\n",
       "      <td>120</td>\n",
       "      <td>What a Lovely Day.</td>\n",
       "    </tr>\n",
       "    <tr>\n",
       "      <th>2</th>\n",
       "      <td>110000000</td>\n",
       "      <td>Shailene Woodley|Theo James|Kate Winslet|Ansel...</td>\n",
       "      <td>Robert Schwentke</td>\n",
       "      <td>Adventure|Science Fiction|Thriller</td>\n",
       "      <td>Insurgent</td>\n",
       "      <td>185238201</td>\n",
       "      <td>3/18/15</td>\n",
       "      <td>2015</td>\n",
       "      <td>295238201</td>\n",
       "      <td>119</td>\n",
       "      <td>One Choice Can Destroy You</td>\n",
       "    </tr>\n",
       "    <tr>\n",
       "      <th>3</th>\n",
       "      <td>200000000</td>\n",
       "      <td>Harrison Ford|Mark Hamill|Carrie Fisher|Adam D...</td>\n",
       "      <td>J.J. Abrams</td>\n",
       "      <td>Action|Adventure|Science Fiction|Fantasy</td>\n",
       "      <td>Star Wars: The Force Awakens</td>\n",
       "      <td>1868178225</td>\n",
       "      <td>12/15/15</td>\n",
       "      <td>2015</td>\n",
       "      <td>2068178225</td>\n",
       "      <td>136</td>\n",
       "      <td>Every generation has a story.</td>\n",
       "    </tr>\n",
       "    <tr>\n",
       "      <th>4</th>\n",
       "      <td>190000000</td>\n",
       "      <td>Vin Diesel|Paul Walker|Jason Statham|Michelle ...</td>\n",
       "      <td>James Wan</td>\n",
       "      <td>Action|Crime|Thriller</td>\n",
       "      <td>Furious 7</td>\n",
       "      <td>1316249360</td>\n",
       "      <td>4/1/15</td>\n",
       "      <td>2015</td>\n",
       "      <td>1506249360</td>\n",
       "      <td>137</td>\n",
       "      <td>Vengeance Hits Home</td>\n",
       "    </tr>\n",
       "  </tbody>\n",
       "</table>\n",
       "</div>"
      ],
      "text/plain": [
       "      budget                                               cast  \\\n",
       "0  150000000  Chris Pratt|Bryce Dallas Howard|Irrfan Khan|Vi...   \n",
       "1  150000000  Tom Hardy|Charlize Theron|Hugh Keays-Byrne|Nic...   \n",
       "2  110000000  Shailene Woodley|Theo James|Kate Winslet|Ansel...   \n",
       "3  200000000  Harrison Ford|Mark Hamill|Carrie Fisher|Adam D...   \n",
       "4  190000000  Vin Diesel|Paul Walker|Jason Statham|Michelle ...   \n",
       "\n",
       "           director                                     genres  \\\n",
       "0   Colin Trevorrow  Action|Adventure|Science Fiction|Thriller   \n",
       "1     George Miller  Action|Adventure|Science Fiction|Thriller   \n",
       "2  Robert Schwentke         Adventure|Science Fiction|Thriller   \n",
       "3       J.J. Abrams   Action|Adventure|Science Fiction|Fantasy   \n",
       "4         James Wan                      Action|Crime|Thriller   \n",
       "\n",
       "                 original_title      profit release_date  release_year  \\\n",
       "0                Jurassic World  1363528810       6/9/15          2015   \n",
       "1            Mad Max: Fury Road   228436354      5/13/15          2015   \n",
       "2                     Insurgent   185238201      3/18/15          2015   \n",
       "3  Star Wars: The Force Awakens  1868178225     12/15/15          2015   \n",
       "4                     Furious 7  1316249360       4/1/15          2015   \n",
       "\n",
       "      revenue  runtime                        tagline  \n",
       "0  1513528810      124              The park is open.  \n",
       "1   378436354      120             What a Lovely Day.  \n",
       "2   295238201      119     One Choice Can Destroy You  \n",
       "3  2068178225      136  Every generation has a story.  \n",
       "4  1506249360      137            Vengeance Hits Home  "
      ]
     },
     "execution_count": 46,
     "metadata": {},
     "output_type": "execute_result"
    }
   ],
   "source": [
    "# Creating Director's split\n",
    "directors_expanded_df = splitDataFrameList(new_df, \"director\",\"|\")\n",
    "directors_expanded_df.head()"
   ]
  },
  {
   "cell_type": "code",
   "execution_count": 47,
   "metadata": {},
   "outputs": [
    {
     "data": {
      "text/plain": [
       "array(['Colin Trevorrow', 'George Miller', 'Robert Schwentke', ...,\n",
       "       'Peter R. Hunt', 'Martin Rosen', 'Howard Hawks'], dtype=object)"
      ]
     },
     "execution_count": 47,
     "metadata": {},
     "output_type": "execute_result"
    }
   ],
   "source": [
    "directors_expanded_df.director.unique()"
   ]
  },
  {
   "cell_type": "code",
   "execution_count": 48,
   "metadata": {},
   "outputs": [
    {
     "data": {
      "text/plain": [
       "director\n",
       " FrÃ©dÃ©ric Jardin             -2496642\n",
       "A.R. Murugadoss                66900000\n",
       "Aaron Blaise                  -99999750\n",
       "Aaron Norris                    -906293\n",
       "Aaron Seltzer                 199717971\n",
       "Abbas Tyrewala                  8800000\n",
       "Abe Sylvia                     -3944875\n",
       "Abel Ferrara                   -9997187\n",
       "Adam Green                     -2447396\n",
       "Adam Marcus                    -2999985\n",
       "Adam McKay                    517576455\n",
       "Adam Rifkin                   -47773556\n",
       "Adam Shankman                 486562773\n",
       "Adam Wingard                   -2632839\n",
       "Adrian Lyne                   622579861\n",
       "Adrienne Shelly                20179430\n",
       "Agnieszka Wojtowicz-Vosloo      -893605\n",
       "AgustÃ­n DÃ­az Yanes            -678046\n",
       "Akiva Goldsman                -29199769\n",
       "Akiva Schaffer                   267862\n",
       "Alan J. Pakula                281211603\n",
       "Alan Mak                        5547000\n",
       "Alan Myerson                   23479000\n",
       "Alan Parker                   127492397\n",
       "Alan Poul                      42477008\n",
       "Alan Shapiro                    2159416\n",
       "Alan Taylor                   595368537\n",
       "Alastair Fothergill            94000000\n",
       "Albert Hughes                 141065870\n",
       "Albert Magnoli                 69601591\n",
       "                                ...    \n",
       "Will Speck                     30830607\n",
       "Willard Carroll               -16029922\n",
       "Willard Huyck                   2228076\n",
       "William A. Graham              -8192146\n",
       "William Brent Bell            118863585\n",
       "William Dear                   -8621007\n",
       "William Eubank                 -3399104\n",
       "William Friedkin              410474729\n",
       "William Malone                   748097\n",
       "William Monahan               -20355892\n",
       "William Phillips               -7795291\n",
       "William Shatner                40200000\n",
       "Wim Wenders                    10741903\n",
       "Wolfgang Petersen             899664722\n",
       "Wolfgang Reitherman           552471219\n",
       "Wong Kar-wai                   11786738\n",
       "Woody Allen                   528953931\n",
       "Wych Kaosayananda             -50075967\n",
       "Xavier Dolan                   -1405930\n",
       "Xavier Gens                    72987753\n",
       "Xavier Palud                   44309766\n",
       "Yorgos Lanthimos                5064511\n",
       "Yvan Attal                     -6650334\n",
       "Zach Braff                     24265022\n",
       "Zack Snyder                   992937193\n",
       "Zal Batmanglij                 -4098490\n",
       "Zana Briski                     3165061\n",
       "Zillah Bowes                     180659\n",
       "Ãlex de la Iglesia             -3781334\n",
       "Ã‰mile Gaudreault              -1330097\n",
       "Name: profit, Length: 1785, dtype: int64"
      ]
     },
     "execution_count": 48,
     "metadata": {},
     "output_type": "execute_result"
    }
   ],
   "source": [
    "dir_group = directors_expanded_df.groupby(\"director\")[\"profit\"].sum()\n",
    "dir_group"
   ]
  },
  {
   "cell_type": "code",
   "execution_count": 49,
   "metadata": {},
   "outputs": [
    {
     "data": {
      "text/html": [
       "<div>\n",
       "<style scoped>\n",
       "    .dataframe tbody tr th:only-of-type {\n",
       "        vertical-align: middle;\n",
       "    }\n",
       "\n",
       "    .dataframe tbody tr th {\n",
       "        vertical-align: top;\n",
       "    }\n",
       "\n",
       "    .dataframe thead th {\n",
       "        text-align: right;\n",
       "    }\n",
       "</style>\n",
       "<table border=\"1\" class=\"dataframe\">\n",
       "  <thead>\n",
       "    <tr style=\"text-align: right;\">\n",
       "      <th></th>\n",
       "      <th>director</th>\n",
       "      <th>profit</th>\n",
       "    </tr>\n",
       "  </thead>\n",
       "  <tbody>\n",
       "    <tr>\n",
       "      <th>0</th>\n",
       "      <td>FrÃ©dÃ©ric Jardin</td>\n",
       "      <td>-2496642</td>\n",
       "    </tr>\n",
       "    <tr>\n",
       "      <th>1</th>\n",
       "      <td>A.R. Murugadoss</td>\n",
       "      <td>66900000</td>\n",
       "    </tr>\n",
       "    <tr>\n",
       "      <th>2</th>\n",
       "      <td>Aaron Blaise</td>\n",
       "      <td>-99999750</td>\n",
       "    </tr>\n",
       "    <tr>\n",
       "      <th>3</th>\n",
       "      <td>Aaron Norris</td>\n",
       "      <td>-906293</td>\n",
       "    </tr>\n",
       "    <tr>\n",
       "      <th>4</th>\n",
       "      <td>Aaron Seltzer</td>\n",
       "      <td>199717971</td>\n",
       "    </tr>\n",
       "  </tbody>\n",
       "</table>\n",
       "</div>"
      ],
      "text/plain": [
       "             director     profit\n",
       "0   FrÃ©dÃ©ric Jardin   -2496642\n",
       "1     A.R. Murugadoss   66900000\n",
       "2        Aaron Blaise  -99999750\n",
       "3        Aaron Norris    -906293\n",
       "4       Aaron Seltzer  199717971"
      ]
     },
     "execution_count": 49,
     "metadata": {},
     "output_type": "execute_result"
    }
   ],
   "source": [
    "dir_group_df = pd.DataFrame(dir_group.reset_index())\n",
    "dir_group_df.head()"
   ]
  },
  {
   "cell_type": "code",
   "execution_count": 50,
   "metadata": {},
   "outputs": [
    {
     "data": {
      "text/html": [
       "<div>\n",
       "<style scoped>\n",
       "    .dataframe tbody tr th:only-of-type {\n",
       "        vertical-align: middle;\n",
       "    }\n",
       "\n",
       "    .dataframe tbody tr th {\n",
       "        vertical-align: top;\n",
       "    }\n",
       "\n",
       "    .dataframe thead th {\n",
       "        text-align: right;\n",
       "    }\n",
       "</style>\n",
       "<table border=\"1\" class=\"dataframe\">\n",
       "  <thead>\n",
       "    <tr style=\"text-align: right;\">\n",
       "      <th></th>\n",
       "      <th>director</th>\n",
       "      <th>profit</th>\n",
       "    </tr>\n",
       "  </thead>\n",
       "  <tbody>\n",
       "    <tr>\n",
       "      <th>0</th>\n",
       "      <td>Steven Spielberg</td>\n",
       "      <td>7486514691</td>\n",
       "    </tr>\n",
       "    <tr>\n",
       "      <th>1</th>\n",
       "      <td>Peter Jackson</td>\n",
       "      <td>5197244659</td>\n",
       "    </tr>\n",
       "    <tr>\n",
       "      <th>2</th>\n",
       "      <td>James Cameron</td>\n",
       "      <td>5081994863</td>\n",
       "    </tr>\n",
       "    <tr>\n",
       "      <th>3</th>\n",
       "      <td>Michael Bay</td>\n",
       "      <td>3557208171</td>\n",
       "    </tr>\n",
       "    <tr>\n",
       "      <th>4</th>\n",
       "      <td>David Yates</td>\n",
       "      <td>3379295625</td>\n",
       "    </tr>\n",
       "    <tr>\n",
       "      <th>5</th>\n",
       "      <td>Christopher Nolan</td>\n",
       "      <td>3162548502</td>\n",
       "    </tr>\n",
       "    <tr>\n",
       "      <th>6</th>\n",
       "      <td>Chris Columbus</td>\n",
       "      <td>3116631503</td>\n",
       "    </tr>\n",
       "    <tr>\n",
       "      <th>7</th>\n",
       "      <td>George Lucas</td>\n",
       "      <td>2955996893</td>\n",
       "    </tr>\n",
       "    <tr>\n",
       "      <th>8</th>\n",
       "      <td>Robert Zemeckis</td>\n",
       "      <td>2846690869</td>\n",
       "    </tr>\n",
       "    <tr>\n",
       "      <th>9</th>\n",
       "      <td>J.J. Abrams</td>\n",
       "      <td>2839169916</td>\n",
       "    </tr>\n",
       "    <tr>\n",
       "      <th>10</th>\n",
       "      <td>Carlos Saldanha</td>\n",
       "      <td>2679405922</td>\n",
       "    </tr>\n",
       "  </tbody>\n",
       "</table>\n",
       "</div>"
      ],
      "text/plain": [
       "             director      profit\n",
       "0    Steven Spielberg  7486514691\n",
       "1       Peter Jackson  5197244659\n",
       "2       James Cameron  5081994863\n",
       "3         Michael Bay  3557208171\n",
       "4         David Yates  3379295625\n",
       "5   Christopher Nolan  3162548502\n",
       "6      Chris Columbus  3116631503\n",
       "7        George Lucas  2955996893\n",
       "8     Robert Zemeckis  2846690869\n",
       "9         J.J. Abrams  2839169916\n",
       "10    Carlos Saldanha  2679405922"
      ]
     },
     "execution_count": 50,
     "metadata": {},
     "output_type": "execute_result"
    }
   ],
   "source": [
    "# Finding top 10 direcctors with maximum profit\n",
    "sorted_df = dir_group_df.sort_values(by=[\"profit\"], ascending=False)\n",
    "sorted_df = sorted_df[:11].reset_index()\n",
    "\n",
    "sorted_df_final = pd.DataFrame()\n",
    "sorted_df_final[\"director\"] = sorted_df[\"director\"]\n",
    "sorted_df_final[\"profit\"] = sorted_df[\"profit\"] \n",
    "\n",
    "sorted_df_final"
   ]
  },
  {
   "cell_type": "code",
   "execution_count": 51,
   "metadata": {},
   "outputs": [
    {
     "data": {
      "text/plain": [
       "<matplotlib.axes._subplots.AxesSubplot at 0x7fee020699b0>"
      ]
     },
     "execution_count": 51,
     "metadata": {},
     "output_type": "execute_result"
    },
    {
     "data": {
      "image/png": "[encoded data removed]",
      "text/plain": [
       "<matplotlib.figure.Figure at 0x7fee01fb67f0>"
      ]
     },
     "metadata": {
      "needs_background": "light"
     },
     "output_type": "display_data"
    }
   ],
   "source": [
    "sorted_df_final.plot(x = \"director\", y = \"profit\", kind = \"bar\")"
   ]
  },
  {
   "cell_type": "code",
   "execution_count": null,
   "metadata": {},
   "outputs": [],
   "source": [
    "*** Analysis: The above graph depicts the top performing directors, that is the directors producing the highest amount of profit."
   ]
  },
  {
   "cell_type": "code",
   "execution_count": 53,
   "metadata": {},
   "outputs": [
    {
     "data": {
      "text/plain": [
       "count    3.854000e+03\n",
       "mean     7.048292e+07\n",
       "std      1.506195e+08\n",
       "min     -4.139124e+08\n",
       "25%     -1.321535e+06\n",
       "50%      2.002019e+07\n",
       "75%      8.170331e+07\n",
       "max      2.544506e+09\n",
       "Name: profit, dtype: float64"
      ]
     },
     "execution_count": 53,
     "metadata": {},
     "output_type": "execute_result"
    }
   ],
   "source": [
    "new_df[\"profit\"].describe()"
   ]
  },
  {
   "cell_type": "code",
   "execution_count": 54,
   "metadata": {},
   "outputs": [
    {
     "data": {
      "text/plain": [
       "count    3.854000e+03\n",
       "mean     3.720370e+07\n",
       "std      4.220822e+07\n",
       "min      1.000000e+00\n",
       "25%      1.000000e+07\n",
       "50%      2.400000e+07\n",
       "75%      5.000000e+07\n",
       "max      4.250000e+08\n",
       "Name: budget, dtype: float64"
      ]
     },
     "execution_count": 54,
     "metadata": {},
     "output_type": "execute_result"
    }
   ],
   "source": [
    "new_df[\"budget\"].describe()"
   ]
  },
  {
   "cell_type": "markdown",
   "metadata": {},
   "source": [
    "<a id='conclusions'></a>\n",
    "## Conclusions\n",
    "\n",
    "> 1)From the given analysis we conclude that since most of the movies have revenue less than the average revenue, this proves that possibly there are very few movies which gain much profit and most remain the average movie.\n",
    "> 2)We also come to the conclusion that the movies having more budget will produce higher profits.\n",
    "> 3)The maximum profit gained by any movie was 2.544506e+09 dollars\n",
    "> 4)The maximum budget for any movie was 4.250000e+08 dollars\n",
    "> 5)The maximum of runtime of a movie in the dataset was 338 mins and minimum was 15 mins.\n",
    "\n",
    "<a id='Limitations'></a>\n",
    "## Limitations\n",
    "\n",
    "> The unit of budget and revenue was not given in the data so there is no surity if the findings are correct as I have taken all the numbers in dollars and there were a number of rows having zero due to which there may skewness in the data\n",
    "\n",
    "\n",
    "> **Tip**: Once you are satisfied with your work here, check over your report to make sure that it is satisfies all the areas of the rubric (found on the project submission page at the end of the lesson). You should also probably remove all of the \"Tips\" like this one so that the presentation is as polished as possible.\n",
    "\n",
    "## Submitting your Project \n",
    "\n",
    "> Before you submit your project, you need to create a .html or .pdf version of this notebook in the workspace here. To do that, run the code cell below. If it worked correctly, you should get a return code of 0, and you should see the generated .html file in the workspace directory (click on the orange Jupyter icon in the upper left).\n",
    "\n",
    "> Alternatively, you can download this report as .html via the **File** > **Download as** submenu, and then manually upload it into the workspace directory by clicking on the orange Jupyter icon in the upper left, then using the Upload button.\n",
    "\n",
    "> Once you've done this, you can submit your project by clicking on the \"Submit Project\" button in the lower right here. This will create and submit a zip file with this .ipynb doc and the .html or .pdf version you created. Congratulations!"
   ]
  },
  {
   "cell_type": "code",
   "execution_count": 55,
   "metadata": {},
   "outputs": [
    {
     "data": {
      "text/plain": [
       "0"
      ]
     },
     "execution_count": 55,
     "metadata": {},
     "output_type": "execute_result"
    }
   ],
   "source": [
    "from subprocess import call\n",
    "call(['python', '-m', 'nbconvert', 'Investigate_a_Dataset.ipynb'])"
   ]
  },
  {
   "cell_type": "code",
   "execution_count": null,
   "metadata": {},
   "outputs": [],
   "source": []
  }
 ],
 "metadata": {
  "kernelspec": {
   "display_name": "Python 3",
   "language": "python",
   "name": "python3"
  },
  "language_info": {
   "codemirror_mode": {
    "name": "ipython",
    "version": 3
   },
   "file_extension": ".py",
   "mimetype": "text/x-python",
   "name": "python",
   "nbconvert_exporter": "python",
   "pygments_lexer": "ipython3",
   "version": "3.6.3"
  }
 },
 "nbformat": 4,
 "nbformat_minor": 2
}
